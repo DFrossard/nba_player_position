{
 "cells": [
  {
   "cell_type": "code",
   "execution_count": 2,
   "metadata": {},
   "outputs": [],
   "source": [
    "import pandas as pd"
   ]
  },
  {
   "cell_type": "code",
   "execution_count": 3,
   "metadata": {},
   "outputs": [],
   "source": [
    "df_full = pd.read_csv('../data/Seasons_Stats.csv')"
   ]
  },
  {
   "cell_type": "code",
   "execution_count": 4,
   "metadata": {},
   "outputs": [
    {
     "data": {
      "text/html": "<div>\n<style scoped>\n    .dataframe tbody tr th:only-of-type {\n        vertical-align: middle;\n    }\n\n    .dataframe tbody tr th {\n        vertical-align: top;\n    }\n\n    .dataframe thead th {\n        text-align: right;\n    }\n</style>\n<table border=\"1\" class=\"dataframe\">\n  <thead>\n    <tr style=\"text-align: right;\">\n      <th></th>\n      <th>Player_id</th>\n      <th>Year</th>\n      <th>Age</th>\n      <th>G</th>\n      <th>GS</th>\n      <th>MP</th>\n      <th>PER</th>\n      <th>TS%</th>\n      <th>3PAr</th>\n      <th>FTr</th>\n      <th>...</th>\n      <th>FT%</th>\n      <th>ORB</th>\n      <th>DRB</th>\n      <th>TRB</th>\n      <th>AST</th>\n      <th>STL</th>\n      <th>BLK</th>\n      <th>TOV</th>\n      <th>PF</th>\n      <th>PTS</th>\n    </tr>\n  </thead>\n  <tbody>\n    <tr>\n      <th>count</th>\n      <td>24691.000000</td>\n      <td>24624.000000</td>\n      <td>24616.000000</td>\n      <td>24624.000000</td>\n      <td>18233.000000</td>\n      <td>24138.000000</td>\n      <td>24101.000000</td>\n      <td>24538.000000</td>\n      <td>18839.000000</td>\n      <td>24525.000000</td>\n      <td>...</td>\n      <td>23766.000000</td>\n      <td>20797.000000</td>\n      <td>20797.000000</td>\n      <td>24312.000000</td>\n      <td>24624.000000</td>\n      <td>20797.000000</td>\n      <td>20797.000000</td>\n      <td>19645.000000</td>\n      <td>24624.000000</td>\n      <td>24624.000000</td>\n    </tr>\n    <tr>\n      <th>mean</th>\n      <td>12345.000000</td>\n      <td>1992.594989</td>\n      <td>26.664405</td>\n      <td>50.837110</td>\n      <td>23.593375</td>\n      <td>1209.720317</td>\n      <td>12.479071</td>\n      <td>0.493001</td>\n      <td>0.158604</td>\n      <td>0.325455</td>\n      <td>...</td>\n      <td>0.719279</td>\n      <td>62.189210</td>\n      <td>147.199404</td>\n      <td>224.637381</td>\n      <td>114.852623</td>\n      <td>39.897052</td>\n      <td>24.470260</td>\n      <td>73.939832</td>\n      <td>116.339222</td>\n      <td>510.116350</td>\n    </tr>\n    <tr>\n      <th>std</th>\n      <td>7127.822084</td>\n      <td>17.429594</td>\n      <td>3.841892</td>\n      <td>26.496161</td>\n      <td>28.632387</td>\n      <td>941.146575</td>\n      <td>6.039014</td>\n      <td>0.094469</td>\n      <td>0.187495</td>\n      <td>0.218971</td>\n      <td>...</td>\n      <td>0.141824</td>\n      <td>67.324881</td>\n      <td>145.921912</td>\n      <td>228.190203</td>\n      <td>135.863913</td>\n      <td>38.713053</td>\n      <td>36.935084</td>\n      <td>67.713803</td>\n      <td>84.791873</td>\n      <td>492.922981</td>\n    </tr>\n    <tr>\n      <th>min</th>\n      <td>0.000000</td>\n      <td>1950.000000</td>\n      <td>18.000000</td>\n      <td>1.000000</td>\n      <td>0.000000</td>\n      <td>0.000000</td>\n      <td>-90.600000</td>\n      <td>0.000000</td>\n      <td>0.000000</td>\n      <td>0.000000</td>\n      <td>...</td>\n      <td>0.000000</td>\n      <td>0.000000</td>\n      <td>0.000000</td>\n      <td>0.000000</td>\n      <td>0.000000</td>\n      <td>0.000000</td>\n      <td>0.000000</td>\n      <td>0.000000</td>\n      <td>0.000000</td>\n      <td>0.000000</td>\n    </tr>\n    <tr>\n      <th>25%</th>\n      <td>6172.500000</td>\n      <td>1981.000000</td>\n      <td>24.000000</td>\n      <td>27.000000</td>\n      <td>0.000000</td>\n      <td>340.000000</td>\n      <td>9.800000</td>\n      <td>0.458000</td>\n      <td>0.005000</td>\n      <td>0.208000</td>\n      <td>...</td>\n      <td>0.657000</td>\n      <td>12.000000</td>\n      <td>33.000000</td>\n      <td>51.000000</td>\n      <td>19.000000</td>\n      <td>9.000000</td>\n      <td>3.000000</td>\n      <td>18.000000</td>\n      <td>39.000000</td>\n      <td>106.000000</td>\n    </tr>\n    <tr>\n      <th>50%</th>\n      <td>12345.000000</td>\n      <td>1996.000000</td>\n      <td>26.000000</td>\n      <td>58.000000</td>\n      <td>8.000000</td>\n      <td>1053.000000</td>\n      <td>12.700000</td>\n      <td>0.506000</td>\n      <td>0.064000</td>\n      <td>0.296000</td>\n      <td>...</td>\n      <td>0.743000</td>\n      <td>38.000000</td>\n      <td>106.000000</td>\n      <td>159.000000</td>\n      <td>68.000000</td>\n      <td>29.000000</td>\n      <td>11.000000</td>\n      <td>55.000000</td>\n      <td>109.000000</td>\n      <td>364.000000</td>\n    </tr>\n    <tr>\n      <th>75%</th>\n      <td>18517.500000</td>\n      <td>2007.000000</td>\n      <td>29.000000</td>\n      <td>75.000000</td>\n      <td>45.000000</td>\n      <td>1971.000000</td>\n      <td>15.600000</td>\n      <td>0.544000</td>\n      <td>0.288000</td>\n      <td>0.400000</td>\n      <td>...</td>\n      <td>0.808000</td>\n      <td>91.000000</td>\n      <td>212.000000</td>\n      <td>322.000000</td>\n      <td>160.000000</td>\n      <td>60.000000</td>\n      <td>29.000000</td>\n      <td>112.000000</td>\n      <td>182.000000</td>\n      <td>778.000000</td>\n    </tr>\n    <tr>\n      <th>max</th>\n      <td>24690.000000</td>\n      <td>2017.000000</td>\n      <td>44.000000</td>\n      <td>88.000000</td>\n      <td>83.000000</td>\n      <td>3882.000000</td>\n      <td>129.100000</td>\n      <td>1.136000</td>\n      <td>1.000000</td>\n      <td>6.000000</td>\n      <td>...</td>\n      <td>1.000000</td>\n      <td>587.000000</td>\n      <td>1111.000000</td>\n      <td>2149.000000</td>\n      <td>1164.000000</td>\n      <td>301.000000</td>\n      <td>456.000000</td>\n      <td>464.000000</td>\n      <td>386.000000</td>\n      <td>4029.000000</td>\n    </tr>\n  </tbody>\n</table>\n<p>8 rows × 50 columns</p>\n</div>",
      "text/plain": "          Player_id          Year           Age             G            GS  \\\ncount  24691.000000  24624.000000  24616.000000  24624.000000  18233.000000   \nmean   12345.000000   1992.594989     26.664405     50.837110     23.593375   \nstd     7127.822084     17.429594      3.841892     26.496161     28.632387   \nmin        0.000000   1950.000000     18.000000      1.000000      0.000000   \n25%     6172.500000   1981.000000     24.000000     27.000000      0.000000   \n50%    12345.000000   1996.000000     26.000000     58.000000      8.000000   \n75%    18517.500000   2007.000000     29.000000     75.000000     45.000000   \nmax    24690.000000   2017.000000     44.000000     88.000000     83.000000   \n\n                 MP           PER           TS%          3PAr           FTr  \\\ncount  24138.000000  24101.000000  24538.000000  18839.000000  24525.000000   \nmean    1209.720317     12.479071      0.493001      0.158604      0.325455   \nstd      941.146575      6.039014      0.094469      0.187495      0.218971   \nmin        0.000000    -90.600000      0.000000      0.000000      0.000000   \n25%      340.000000      9.800000      0.458000      0.005000      0.208000   \n50%     1053.000000     12.700000      0.506000      0.064000      0.296000   \n75%     1971.000000     15.600000      0.544000      0.288000      0.400000   \nmax     3882.000000    129.100000      1.136000      1.000000      6.000000   \n\n       ...           FT%           ORB           DRB           TRB  \\\ncount  ...  23766.000000  20797.000000  20797.000000  24312.000000   \nmean   ...      0.719279     62.189210    147.199404    224.637381   \nstd    ...      0.141824     67.324881    145.921912    228.190203   \nmin    ...      0.000000      0.000000      0.000000      0.000000   \n25%    ...      0.657000     12.000000     33.000000     51.000000   \n50%    ...      0.743000     38.000000    106.000000    159.000000   \n75%    ...      0.808000     91.000000    212.000000    322.000000   \nmax    ...      1.000000    587.000000   1111.000000   2149.000000   \n\n                AST           STL           BLK           TOV            PF  \\\ncount  24624.000000  20797.000000  20797.000000  19645.000000  24624.000000   \nmean     114.852623     39.897052     24.470260     73.939832    116.339222   \nstd      135.863913     38.713053     36.935084     67.713803     84.791873   \nmin        0.000000      0.000000      0.000000      0.000000      0.000000   \n25%       19.000000      9.000000      3.000000     18.000000     39.000000   \n50%       68.000000     29.000000     11.000000     55.000000    109.000000   \n75%      160.000000     60.000000     29.000000    112.000000    182.000000   \nmax     1164.000000    301.000000    456.000000    464.000000    386.000000   \n\n                PTS  \ncount  24624.000000  \nmean     510.116350  \nstd      492.922981  \nmin        0.000000  \n25%      106.000000  \n50%      364.000000  \n75%      778.000000  \nmax     4029.000000  \n\n[8 rows x 50 columns]"
     },
     "execution_count": 4,
     "metadata": {},
     "output_type": "execute_result"
    }
   ],
   "source": [
    "df_full.describe()"
   ]
  },
  {
   "cell_type": "code",
   "execution_count": 5,
   "metadata": {},
   "outputs": [],
   "source": [
    "df_filtered = df_full[(df_full.Tm != 'TOT') & (df_full.Year)]"
   ]
  },
  {
   "cell_type": "code",
   "execution_count": 6,
   "metadata": {},
   "outputs": [
    {
     "data": {
      "text/plain": "312   NaN\nName: Year, dtype: float64"
     },
     "execution_count": 6,
     "metadata": {},
     "output_type": "execute_result"
    }
   ],
   "source": [
    "df_full[(df_full.Player_id == 312)].Year"
   ]
  },
  {
   "cell_type": "code",
   "execution_count": 16,
   "metadata": {},
   "outputs": [],
   "source": [
    "df_good_cols = df_filtered[[\"Player\", \"Pos\", \"MP\", \"DRB%\", \"ORB%\", \"TRB%\", \"AST%\", \"STL%\", \"BLK%\", \"FG\", \"FGA\", \"FG%\", \"3P\", \"3PA\", \"3P%\", \"2P\", \"2PA\", \"2P%\", \"eFG%\", \"FT\", \"FTA\", \"FT%\", \"ORB\", \"DRB\", \"TRB\", \"AST\", \"STL\", \"BLK\" ]]"
   ]
  },
  {
   "cell_type": "code",
   "execution_count": 30,
   "metadata": {},
   "outputs": [],
   "source": [
    "df_players_with_enough_mins_played = df_good_cols[(df_good_cols[\"MP\"] >= 240)]"
   ]
  },
  {
   "cell_type": "code",
   "execution_count": 23,
   "metadata": {},
   "outputs": [
    {
     "data": {
      "text/html": "<div>\n<style scoped>\n    .dataframe tbody tr th:only-of-type {\n        vertical-align: middle;\n    }\n\n    .dataframe tbody tr th {\n        vertical-align: top;\n    }\n\n    .dataframe thead th {\n        text-align: right;\n    }\n</style>\n<table border=\"1\" class=\"dataframe\">\n  <thead>\n    <tr style=\"text-align: right;\">\n      <th></th>\n      <th>MP</th>\n      <th>DRB%</th>\n      <th>ORB%</th>\n      <th>TRB%</th>\n      <th>AST%</th>\n      <th>STL%</th>\n      <th>BLK%</th>\n      <th>FG</th>\n      <th>FGA</th>\n      <th>FG%</th>\n      <th>...</th>\n      <th>eFG%</th>\n      <th>FT</th>\n      <th>FTA</th>\n      <th>FT%</th>\n      <th>ORB</th>\n      <th>DRB</th>\n      <th>TRB</th>\n      <th>AST</th>\n      <th>STL</th>\n      <th>BLK</th>\n    </tr>\n  </thead>\n  <tbody>\n    <tr>\n      <th>count</th>\n      <td>17541.000000</td>\n      <td>15006.000000</td>\n      <td>15006.000000</td>\n      <td>15569.000000</td>\n      <td>16335.000000</td>\n      <td>15006.000000</td>\n      <td>15006.000000</td>\n      <td>17541.000000</td>\n      <td>17541.000000</td>\n      <td>17541.000000</td>\n      <td>...</td>\n      <td>17541.000000</td>\n      <td>17541.000000</td>\n      <td>17541.000000</td>\n      <td>17537.000000</td>\n      <td>15006.000000</td>\n      <td>15006.000000</td>\n      <td>17541.000000</td>\n      <td>17541.000000</td>\n      <td>15006.000000</td>\n      <td>15006.000000</td>\n    </tr>\n    <tr>\n      <th>mean</th>\n      <td>1517.374950</td>\n      <td>13.886086</td>\n      <td>6.052912</td>\n      <td>9.968155</td>\n      <td>13.684083</td>\n      <td>1.664747</td>\n      <td>1.431314</td>\n      <td>249.188986</td>\n      <td>544.530814</td>\n      <td>0.449009</td>\n      <td>...</td>\n      <td>0.470068</td>\n      <td>129.944644</td>\n      <td>172.953138</td>\n      <td>0.734671</td>\n      <td>78.753632</td>\n      <td>186.651339</td>\n      <td>283.075423</td>\n      <td>145.784733</td>\n      <td>50.541383</td>\n      <td>31.182194</td>\n    </tr>\n    <tr>\n      <th>std</th>\n      <td>849.915088</td>\n      <td>5.852669</td>\n      <td>3.732237</td>\n      <td>4.484862</td>\n      <td>8.828055</td>\n      <td>0.691927</td>\n      <td>1.454528</td>\n      <td>186.776369</td>\n      <td>390.026550</td>\n      <td>0.057583</td>\n      <td>...</td>\n      <td>0.057674</td>\n      <td>117.108946</td>\n      <td>149.733207</td>\n      <td>0.106699</td>\n      <td>68.976948</td>\n      <td>145.840419</td>\n      <td>230.314640</td>\n      <td>142.465610</td>\n      <td>38.521281</td>\n      <td>40.095378</td>\n    </tr>\n    <tr>\n      <th>min</th>\n      <td>240.000000</td>\n      <td>3.000000</td>\n      <td>0.000000</td>\n      <td>2.000000</td>\n      <td>0.000000</td>\n      <td>0.000000</td>\n      <td>0.000000</td>\n      <td>5.000000</td>\n      <td>18.000000</td>\n      <td>0.158000</td>\n      <td>...</td>\n      <td>0.158000</td>\n      <td>0.000000</td>\n      <td>0.000000</td>\n      <td>0.000000</td>\n      <td>0.000000</td>\n      <td>8.000000</td>\n      <td>11.000000</td>\n      <td>0.000000</td>\n      <td>0.000000</td>\n      <td>0.000000</td>\n    </tr>\n    <tr>\n      <th>25%</th>\n      <td>762.000000</td>\n      <td>9.100000</td>\n      <td>2.800000</td>\n      <td>6.000000</td>\n      <td>7.200000</td>\n      <td>1.200000</td>\n      <td>0.400000</td>\n      <td>99.000000</td>\n      <td>227.000000</td>\n      <td>0.413000</td>\n      <td>...</td>\n      <td>0.436000</td>\n      <td>43.000000</td>\n      <td>61.000000</td>\n      <td>0.678000</td>\n      <td>27.000000</td>\n      <td>77.000000</td>\n      <td>115.000000</td>\n      <td>46.000000</td>\n      <td>21.000000</td>\n      <td>7.000000</td>\n    </tr>\n    <tr>\n      <th>50%</th>\n      <td>1441.000000</td>\n      <td>12.900000</td>\n      <td>5.500000</td>\n      <td>9.300000</td>\n      <td>11.100000</td>\n      <td>1.600000</td>\n      <td>0.900000</td>\n      <td>202.000000</td>\n      <td>450.000000</td>\n      <td>0.448000</td>\n      <td>...</td>\n      <td>0.473000</td>\n      <td>94.000000</td>\n      <td>128.000000</td>\n      <td>0.750000</td>\n      <td>56.000000</td>\n      <td>148.000000</td>\n      <td>221.000000</td>\n      <td>100.000000</td>\n      <td>41.000000</td>\n      <td>17.000000</td>\n    </tr>\n    <tr>\n      <th>75%</th>\n      <td>2212.000000</td>\n      <td>18.200000</td>\n      <td>8.900000</td>\n      <td>13.500000</td>\n      <td>18.100000</td>\n      <td>2.100000</td>\n      <td>1.900000</td>\n      <td>356.000000</td>\n      <td>775.000000</td>\n      <td>0.485000</td>\n      <td>...</td>\n      <td>0.507000</td>\n      <td>182.000000</td>\n      <td>240.000000</td>\n      <td>0.810000</td>\n      <td>111.000000</td>\n      <td>251.000000</td>\n      <td>380.000000</td>\n      <td>198.000000</td>\n      <td>70.000000</td>\n      <td>38.000000</td>\n    </tr>\n    <tr>\n      <th>max</th>\n      <td>3882.000000</td>\n      <td>38.000000</td>\n      <td>22.800000</td>\n      <td>29.700000</td>\n      <td>57.500000</td>\n      <td>5.900000</td>\n      <td>10.800000</td>\n      <td>1597.000000</td>\n      <td>3159.000000</td>\n      <td>0.748000</td>\n      <td>...</td>\n      <td>0.748000</td>\n      <td>840.000000</td>\n      <td>1363.000000</td>\n      <td>1.000000</td>\n      <td>587.000000</td>\n      <td>1111.000000</td>\n      <td>2149.000000</td>\n      <td>1164.000000</td>\n      <td>301.000000</td>\n      <td>456.000000</td>\n    </tr>\n  </tbody>\n</table>\n<p>8 rows × 26 columns</p>\n</div>",
      "text/plain": "                 MP          DRB%          ORB%          TRB%          AST%  \\\ncount  17541.000000  15006.000000  15006.000000  15569.000000  16335.000000   \nmean    1517.374950     13.886086      6.052912      9.968155     13.684083   \nstd      849.915088      5.852669      3.732237      4.484862      8.828055   \nmin      240.000000      3.000000      0.000000      2.000000      0.000000   \n25%      762.000000      9.100000      2.800000      6.000000      7.200000   \n50%     1441.000000     12.900000      5.500000      9.300000     11.100000   \n75%     2212.000000     18.200000      8.900000     13.500000     18.100000   \nmax     3882.000000     38.000000     22.800000     29.700000     57.500000   \n\n               STL%          BLK%            FG           FGA           FG%  \\\ncount  15006.000000  15006.000000  17541.000000  17541.000000  17541.000000   \nmean       1.664747      1.431314    249.188986    544.530814      0.449009   \nstd        0.691927      1.454528    186.776369    390.026550      0.057583   \nmin        0.000000      0.000000      5.000000     18.000000      0.158000   \n25%        1.200000      0.400000     99.000000    227.000000      0.413000   \n50%        1.600000      0.900000    202.000000    450.000000      0.448000   \n75%        2.100000      1.900000    356.000000    775.000000      0.485000   \nmax        5.900000     10.800000   1597.000000   3159.000000      0.748000   \n\n       ...          eFG%            FT           FTA           FT%  \\\ncount  ...  17541.000000  17541.000000  17541.000000  17537.000000   \nmean   ...      0.470068    129.944644    172.953138      0.734671   \nstd    ...      0.057674    117.108946    149.733207      0.106699   \nmin    ...      0.158000      0.000000      0.000000      0.000000   \n25%    ...      0.436000     43.000000     61.000000      0.678000   \n50%    ...      0.473000     94.000000    128.000000      0.750000   \n75%    ...      0.507000    182.000000    240.000000      0.810000   \nmax    ...      0.748000    840.000000   1363.000000      1.000000   \n\n                ORB           DRB           TRB           AST           STL  \\\ncount  15006.000000  15006.000000  17541.000000  17541.000000  15006.000000   \nmean      78.753632    186.651339    283.075423    145.784733     50.541383   \nstd       68.976948    145.840419    230.314640    142.465610     38.521281   \nmin        0.000000      8.000000     11.000000      0.000000      0.000000   \n25%       27.000000     77.000000    115.000000     46.000000     21.000000   \n50%       56.000000    148.000000    221.000000    100.000000     41.000000   \n75%      111.000000    251.000000    380.000000    198.000000     70.000000   \nmax      587.000000   1111.000000   2149.000000   1164.000000    301.000000   \n\n                BLK  \ncount  15006.000000  \nmean      31.182194  \nstd       40.095378  \nmin        0.000000  \n25%        7.000000  \n50%       17.000000  \n75%       38.000000  \nmax      456.000000  \n\n[8 rows x 26 columns]"
     },
     "execution_count": 23,
     "metadata": {},
     "output_type": "execute_result"
    }
   ],
   "source": [
    "df_players_with_enough_mins_played.describe()"
   ]
  },
  {
   "cell_type": "code",
   "execution_count": 31,
   "metadata": {},
   "outputs": [],
   "source": [
    "df_players_with_enough_mins_played = df_players_with_enough_mins_played[(df_players_with_enough_mins_played.Pos == \"PF\") | (df_players_with_enough_mins_played.Pos == \"SG\") | (df_players_with_enough_mins_played.Pos == \"SF\") | (df_players_with_enough_mins_played.Pos == \"PG\") | (df_players_with_enough_mins_played.Pos == \"C\")]"
   ]
  },
  {
   "cell_type": "code",
   "execution_count": 32,
   "metadata": {},
   "outputs": [
    {
     "data": {
      "text/plain": "PF    3630\nSG    3541\nSF    3531\nPG    3408\nC     3407\nName: Pos, dtype: int64"
     },
     "execution_count": 32,
     "metadata": {},
     "output_type": "execute_result"
    }
   ],
   "source": [
    "df_players_with_enough_mins_played.Pos.value_counts()"
   ]
  },
  {
   "cell_type": "code",
   "execution_count": 33,
   "metadata": {},
   "outputs": [
    {
     "name": "stdout",
     "output_type": "stream",
     "text": [
      "<class 'pandas.core.frame.DataFrame'>\n",
      "Int64Index: 17517 entries, 488 to 24690\n",
      "Data columns (total 28 columns):\n",
      " #   Column  Non-Null Count  Dtype  \n",
      "---  ------  --------------  -----  \n",
      " 0   Player  17517 non-null  object \n",
      " 1   Pos     17517 non-null  object \n",
      " 2   MP      17517 non-null  float64\n",
      " 3   DRB%    15006 non-null  float64\n",
      " 4   ORB%    15006 non-null  float64\n",
      " 5   TRB%    15569 non-null  float64\n",
      " 6   AST%    16335 non-null  float64\n",
      " 7   STL%    15006 non-null  float64\n",
      " 8   BLK%    15006 non-null  float64\n",
      " 9   FG      17517 non-null  float64\n",
      " 10  FGA     17517 non-null  float64\n",
      " 11  FG%     17517 non-null  float64\n",
      " 12  3P      13558 non-null  float64\n",
      " 13  3PA     13558 non-null  float64\n",
      " 14  3P%     12034 non-null  float64\n",
      " 15  2P      17517 non-null  float64\n",
      " 16  2PA     17517 non-null  float64\n",
      " 17  2P%     17517 non-null  float64\n",
      " 18  eFG%    17517 non-null  float64\n",
      " 19  FT      17517 non-null  float64\n",
      " 20  FTA     17517 non-null  float64\n",
      " 21  FT%     17513 non-null  float64\n",
      " 22  ORB     15006 non-null  float64\n",
      " 23  DRB     15006 non-null  float64\n",
      " 24  TRB     17517 non-null  float64\n",
      " 25  AST     17517 non-null  float64\n",
      " 26  STL     15006 non-null  float64\n",
      " 27  BLK     15006 non-null  float64\n",
      "dtypes: float64(26), object(2)\n",
      "memory usage: 3.9+ MB\n"
     ]
    }
   ],
   "source": [
    "df_players_with_enough_mins_played.info()"
   ]
  },
  {
   "cell_type": "code",
   "execution_count": 40,
   "metadata": {},
   "outputs": [],
   "source": [
    "df_players_with_enough_mins_played = df_players_with_enough_mins_played.dropna()"
   ]
  },
  {
   "cell_type": "code",
   "execution_count": 41,
   "metadata": {},
   "outputs": [],
   "source": [
    "from sklearn.model_selection import train_test_split\r\n",
    "\r\n",
    "X=df_players_with_enough_mins_played[[\"DRB%\",\"ORB%\",\"TRB%\",\"AST%\",\"STL%\",\"BLK%\",\"FG\",\"FGA\",\"FG%\",\"3P\",\"3PA\",\"3P%\",\"2P\",\"2PA\",\"2P%\",\"eFG%\",\"FT\",\"FTA\",\"FT%\",\"ORB\",\"DRB\",\"TRB\",\"AST\",\"STL\",\"BLK\"]]  # Features\r\n",
    "y=df_players_with_enough_mins_played['Pos']  # Labels\r\n",
    "\r\n",
    "# Split dataset into training set and test set\r\n",
    "X_train, X_test, y_train, y_test = train_test_split(X, y, test_size=0.3)"
   ]
  },
  {
   "cell_type": "code",
   "execution_count": 42,
   "metadata": {},
   "outputs": [],
   "source": [
    "#Import Random Forest Model\r\n",
    "from sklearn.ensemble import RandomForestClassifier\r\n",
    "\r\n",
    "#Create a Gaussian Classifier\r\n",
    "clf=RandomForestClassifier(n_estimators=100)\r\n",
    "\r\n",
    "#Train the model using the training sets y_pred=clf.predict(X_test)\r\n",
    "clf.fit(X_train,y_train)\r\n",
    "\r\n",
    "y_pred=clf.predict(X_test)"
   ]
  },
  {
   "cell_type": "code",
   "execution_count": 43,
   "metadata": {},
   "outputs": [
    {
     "name": "stdout",
     "output_type": "stream",
     "text": [
      "Accuracy: 0.6772853185595568\n"
     ]
    }
   ],
   "source": [
    "#Import scikit-learn metrics module for accuracy calculation\r\n",
    "from sklearn import metrics\r\n",
    "# Model Accuracy, how often is the classifier correct?\r\n",
    "print(\"Accuracy:\",metrics.accuracy_score(y_test, y_pred))"
   ]
  },
  {
   "cell_type": "code",
   "execution_count": null,
   "metadata": {},
   "outputs": [],
   "source": []
  }
 ],
 "metadata": {
  "kernelspec": {
   "display_name": "Python 3.9.2 64-bit ('venv': venv)",
   "metadata": {
    "interpreter": {
     "hash": "af02f857bd754329b08d6887676d60819e43e2b18c4046e19574593388fb2bf5"
    }
   },
   "name": "python3"
  },
  "language_info": {
   "codemirror_mode": {
    "name": "ipython",
    "version": 3
   },
   "file_extension": ".py",
   "mimetype": "text/x-python",
   "name": "python",
   "nbconvert_exporter": "python",
   "pygments_lexer": "ipython3",
   "version": "3.9.2"
  },
  "orig_nbformat": 2
 },
 "nbformat": 4,
 "nbformat_minor": 2
}